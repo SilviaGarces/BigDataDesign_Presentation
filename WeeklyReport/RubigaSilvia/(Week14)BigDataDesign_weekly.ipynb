{
 "cells": [
  {
   "cell_type": "markdown",
   "metadata": {},
   "source": [
    "# Weekly Report\n",
    "- Team members: 21900086 Kim Rubiga, 22220036 Silvia Garces\n",
    "- Meeting Date: 30052023 \n",
    "- Project Name: CAFA5 Protein Function Prediction\n",
    "- Project Goal: Developing a model to predict the function of proteins by annotating them with GO terms. "
   ]
  },
  {
   "cell_type": "markdown",
   "metadata": {},
   "source": [
    "### Weekly plan (Fill this in)\n",
    "\n",
    "| Week    | Schedule              | Note                                            |\n",
    "|---------|-----------------------|-------------------------------------------------|\n",
    "| Week 9  | Data Analysis         | Focus on understanding data                     |\n",
    "| Week 10 | Finding Novelty       | Basic EDA to know which approach we would use    |\n",
    "| Week 11 | Complete EDA          | To complete EDA and data exploration to know what model we will proceed with|\n",
    "| Week 12 | Search reference scientific articles | To find related articles for validity of our data|\n",
    "| Week 13 | Start working on the proposal | Getting to understand how overleaf works     |\n",
    "| Week 14 | Complete on proposal draft   |  Getting comments from professor on the draft |\n",
    "| Week 15 | Fixing the proposal draft and code | Goal is to finish at least 95% of the progress|\n",
    "| Week 16 | Final comments on the research proposal and finishing touches | Editing based on the final comments|\n",
    "\n",
    "\n"
   ]
  },
  {
   "cell_type": "markdown",
   "metadata": {},
   "source": [
    "### Summary of previous meeting\n",
    "- Previous discussion: Novelty of project and what we are trying to do with our project. \n",
    "- Comments from Professor: To begin with EDA because of the deadline for the project. Competition: what we are trying to do and EDA\n",
    "- Previous plan: How are other teams doing, telling him our novelty, how are we going to check the performance? (References) "
   ]
  },
  {
   "cell_type": "markdown",
   "metadata": {},
   "source": [
    "### Summary of working progress\n",
    "- Level of progress in weekly plan: 100 % completed or 50 % completed.\n",
    "- Progress 1(Week 9): 5%\n",
    "- Progress 2(Week 10): 15% \n",
    "- Progress 3(Week 11): 80%\n",
    "- Progress 4(Week 12): 100%\n",
    "- Progress 5(Week 13): 100%\n",
    "- Progress 6(Week 14): 80%"
   ]
  },
  {
   "cell_type": "markdown",
   "metadata": {},
   "source": [
    "### Pending assignments or requests\n",
    "Week 10\n",
    "- pending assingments: Completion of EDA\n",
    "- requests: Dimension reduction tips\n",
    "\n",
    "Week 11\n",
    "- pending assignments: - \n",
    "- requests: Server and regarding data significance aspect\n",
    "\n",
    "Week 12 \n",
    "- Server problem resolve\n",
    "- Ask on the optimum results in the case of using Random Forest\n",
    "\n",
    "Week 13\n",
    "- tried doing RNN for the final training dataset. As it is really huge we did random sampling first to try a first approach, however the data is not in numerical values so we tried to do encoders to change it. It did not work properly so we need further advice on how to do that.\n",
    "\n",
    "Week 14\n",
    "- Embedding question\n",
    "- Whether we have to include all the models that we have run in the overleaf project or should we include the one with a validated score"
   ]
  },
  {
   "cell_type": "markdown",
   "metadata": {},
   "source": [
    "### Project Comments"
   ]
  },
  {
   "cell_type": "markdown",
   "metadata": {},
   "source": [
    "Week 10\n",
    "- What other projects lack --> Good visualization \n",
    "- Comments by professor: remeasure and see how many taxonomy occurs the most, removing duplicates\n",
    "\n",
    "Week 13\n",
    "- Coding with ANN Model\n",
    "- Starting off with overleaf and registering\n",
    "\n",
    "Week 14\n",
    "- Tried ANN model, RNN model (with tensorflow) but due to data insufficient shapes we decided to go with DNN model as it is simpler and it has a better performance "
   ]
  },
  {
   "cell_type": "markdown",
   "metadata": {},
   "source": [
    "# Week 14\n"
   ]
  },
  {
   "cell_type": "markdown",
   "metadata": {},
   "source": [
    "Tasks to be done for methodology:\n",
    "* Try the T5 embeddings for our deep learning model. \n",
    "* Trying to improve on the score\n",
    "\n",
    "\n",
    "![Alt Text](accuracy.png)\n",
    "![Alt Text](frequent_GO.jpg)\n",
    "![Alt Text](pie_distribution.jpg)\n",
    "![Alt Text](train_terms_describe.jpg)\n",
    "![Alt Text](entropy.png)\n",
    "![Alt Text](epoch.jpg)\n",
    "\n",
    "\n"
   ]
  },
  {
   "cell_type": "markdown",
   "metadata": {},
   "source": [
    "![Alt Text](pca_plot.png)"
   ]
  },
  {
   "cell_type": "markdown",
   "metadata": {},
   "source": [
    "Protein Cluster inference:\n",
    "* <b>Similarity within the cluster</b>: The proteins within the circular cluster are likely to have similar embedding values. This suggests that they share common characteristics or functions, as they are grouped closely together in the embedding space.\n",
    "\n",
    "* <b>Distinct protein subgroup</b>: The circular cluster could represent a distinct subgroup or category of proteins with unique features or properties. Proteins within this subgroup may have specific functional or structural similarities that differentiate them from other proteins.\n",
    "\n",
    "* <b>Functional relationship</b>: The circular cluster might indicate that the proteins within it share a particular functional relationship. It could suggest that these proteins are involved in a common biological pathway, perform similar biological functions, or have similar functional annotations.\n",
    "\n",
    "* <b>Proximity in high-dimensional space</b>: The circular shape of the cluster implies that the proteins exhibit similar embedding values across multiple dimensions. This indicates that the proteins are close to each other in the high-dimensional embedding space and likely have comparable embedding coordinates."
   ]
  },
  {
   "cell_type": "code",
   "execution_count": null,
   "metadata": {},
   "outputs": [],
   "source": []
  }
 ],
 "metadata": {
  "kernelspec": {
   "display_name": "Python 3 (ipykernel)",
   "language": "python",
   "name": "python3"
  },
  "language_info": {
   "codemirror_mode": {
    "name": "ipython",
    "version": 3
   },
   "file_extension": ".py",
   "mimetype": "text/x-python",
   "name": "python",
   "nbconvert_exporter": "python",
   "pygments_lexer": "ipython3",
   "version": "3.10.9"
  }
 },
 "nbformat": 4,
 "nbformat_minor": 4
}
