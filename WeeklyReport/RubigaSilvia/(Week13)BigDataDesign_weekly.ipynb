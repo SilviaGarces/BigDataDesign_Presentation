{
 "cells": [
  {
   "cell_type": "markdown",
   "metadata": {},
   "source": [
    "# Weekly Report\n",
    "- Team members: 21900086 Kim Rubiga, 22220036 Silvia Garces\n",
    "- Meeting Date: 23052023 \n",
    "- Project Name: CAFA5 Protein Function Prediction\n",
    "- Project Goal: Developing a model to predict the function of proteins by annotating them with GO terms. "
   ]
  },
  {
   "cell_type": "markdown",
   "metadata": {},
   "source": [
    "### Weekly plan (Fill this in)\n",
    "\n",
    "| Week    | Schedule              | Note                                            |\n",
    "|---------|-----------------------|-------------------------------------------------|\n",
    "| Week 9  | Data Analysis         | Focus on understanding data                     |\n",
    "| Week 10 | Finding Novelty       | Basic EDA to know which approach we would use    |\n",
    "| Week 11 | Complete EDA          | To complete EDA and data exploration to know what model we will proceed with|\n",
    "| Week 12 | Search reference scientific articles | To find related articles for validity of our data|\n",
    "| Week 13 | Start working on the proposal | Getting to understand how overleaf works     |\n",
    "| Week 14 | Complete on proposal draft   |  Getting comments from professor on the draft |\n",
    "| Week 15 | Fixing the proposal draft and code | Goal is to finish at least 95% of the progress|\n",
    "| Week 16 | Final comments on the research proposal and finishing touches | Editing based on the final comments|\n",
    "\n",
    "\n"
   ]
  },
  {
   "cell_type": "markdown",
   "metadata": {},
   "source": [
    "### Summary of previous meeting\n",
    "- Previous discussion: Novelty of project and what we are trying to do with our project. \n",
    "- Comments from Professor: To begin with EDA because of the deadline for the project. Competition: what we are trying to do and EDA\n",
    "- Previous plan: How are other teams doing, telling him our novelty, how are we going to check the performance? (References) "
   ]
  },
  {
   "cell_type": "markdown",
   "metadata": {},
   "source": [
    "### Summary of working progress\n",
    "- Level of progress in weekly plan: 100 % completed or 50 % completed.\n",
    "- Progress 1(Week 9): 5%\n",
    "- Progress 2(Week 10): 15% \n",
    "- Progress 3(Week 11): 80%\n",
    "- Progress 4(Week 12): 100%\n",
    "- Progress 5(Week 13): 100%"
   ]
  },
  {
   "cell_type": "markdown",
   "metadata": {},
   "source": [
    "### Pending assignments or requests\n",
    "Week 10\n",
    "- pending assingments: Completion of EDA\n",
    "- requests: Dimension reduction tips\n",
    "\n",
    "Week 11\n",
    "- pending assignments: - \n",
    "- requests: Server and regarding data significance aspect\n",
    "\n",
    "Week 12 \n",
    "- Server problem resolve\n",
    "- Ask on the optimum results in the case of using Random Forest\n",
    "\n",
    "Week 13\n",
    "- tried doing RNN for the final training dataset. As it is really huge we did random sampling first to try a first approach, however the data is not in numerical values so we tried to do encoders to change it. It did not work properly so we need further advice on how to do that."
   ]
  },
  {
   "cell_type": "markdown",
   "metadata": {},
   "source": [
    "### Project Comments"
   ]
  },
  {
   "cell_type": "markdown",
   "metadata": {},
   "source": [
    "Week 10\n",
    "- What other projects lack --> Good visualization \n",
    "- Comments by professor: remeasure and see how many taxonomy occurs the most, removing duplicates\n",
    "\n",
    "Week 13\n",
    "- Coding with ANN Model\n",
    "- Starting off with overleaf and registering"
   ]
  },
  {
   "cell_type": "markdown",
   "metadata": {},
   "source": [
    "# Week 13\n"
   ]
  },
  {
   "cell_type": "markdown",
   "metadata": {},
   "source": [
    "Purpose and objective of developing ANN model:\n",
    "\n",
    "1. ANN models can process large numbers of protein data and make predictions rapidly.\n",
    "2. ANN models can handle a wide variety of protein data and can generalize patterns developed from training data to make predictions on new unseen proteins.\n",
    "3. ANN models can incorporate multiple types of data such as protein sequences, structures, etc., to improve the prediction accuracy and develop complex relationships.\n",
    "4. ANN can learn complex patterns and relationships in protein data, leading to improved accuracy in function prediction compared to traditional rule-based methods.\n",
    "5. ANN models have the potential to uncover novel protein functions by identifying subtle patterns and relationships that are not apparent with just manual observation.\n",
    "\n",
    "2. Dataset used for training and testing the ANN model:\n",
    "\n",
    "- Maximum labels assigned: 1500\n",
    "- 1500 terms are selected based on their fraction and frequencies.\n",
    "\n",
    "Preprocessing step:\n",
    "\n",
    "The code involves the following steps for preprocessing the data before training the ANN model:\n",
    "\n",
    "- The function 'assign_labels' is used to assign labels to proteins based on the presence of selected terms within their annotations.\n",
    "- The intersection between the 'selected_terms' set and the 'annotations' is calculated to identify the terms that exist in both the selected terms and the annotations.\n",
    "- An array is used to check if each term from the 'selected_terms' array is present in the 'intersection' array.\n",
    "- The 'assign_labels' function is then applied to each group of annotations in the 'train_seq' dataframe, and the results are stored in the 'labels' variable.\n"
   ]
  }
 ],
 "metadata": {
  "kernelspec": {
   "display_name": "Python 3 (ipykernel)",
   "language": "python",
   "name": "python3"
  },
  "language_info": {
   "codemirror_mode": {
    "name": "ipython",
    "version": 3
   },
   "file_extension": ".py",
   "mimetype": "text/x-python",
   "name": "python",
   "nbconvert_exporter": "python",
   "pygments_lexer": "ipython3",
   "version": "3.10.9"
  }
 },
 "nbformat": 4,
 "nbformat_minor": 4
}
